{
 "cells": [
  {
   "cell_type": "code",
   "execution_count": 1,
   "metadata": {},
   "outputs": [],
   "source": [
    "import numpy as np\n",
    "import functions_eq_mag as fc\n",
    "import functions_fatiando as ft\n",
    "from timeit import default_timer as time\n",
    "from matplotlib import pyplot as plt\n",
    "%matplotlib inline"
   ]
  },
  {
   "cell_type": "markdown",
   "metadata": {},
   "source": [
    "## Flops count Classical Vs. CGLS Vs. CGLS_BCCB"
   ]
  },
  {
   "cell_type": "code",
   "execution_count": 2,
   "metadata": {},
   "outputs": [],
   "source": [
    "N = np.arange(10000.,1010000,10000)\n",
    "it = 50\n",
    "k = 5"
   ]
  },
  {
   "cell_type": "markdown",
   "metadata": {},
   "source": [
    "### Classical (Cholesky Factorization)"
   ]
  },
  {
   "cell_type": "code",
   "execution_count": 3,
   "metadata": {},
   "outputs": [],
   "source": [
    "classical = 5/6 * (N**3) + 6 * (N**2)"
   ]
  },
  {
   "cell_type": "code",
   "execution_count": 4,
   "metadata": {},
   "outputs": [],
   "source": [
    "#classical = (N + N/3)*N**2"
   ]
  },
  {
   "cell_type": "markdown",
   "metadata": {},
   "source": [
    "### CGLS"
   ]
  },
  {
   "cell_type": "code",
   "execution_count": 5,
   "metadata": {},
   "outputs": [],
   "source": [
    "cgls = 2 * (N**2) + it * (4 * N**2 + 12 * N)"
   ]
  },
  {
   "cell_type": "markdown",
   "metadata": {},
   "source": [
    "### CGLS_BCCB"
   ]
  },
  {
   "cell_type": "code",
   "execution_count": 6,
   "metadata": {},
   "outputs": [],
   "source": [
    "cgls_bccb = k * 16 * N * np.log2(4*N) + 24 * N + it * (k * 16 * N * np.log2(4*N) + 60 * N)"
   ]
  },
  {
   "cell_type": "markdown",
   "metadata": {},
   "source": [
    "### Plot Flops Count"
   ]
  },
  {
   "cell_type": "code",
   "execution_count": 13,
   "metadata": {},
   "outputs": [
    {
     "data": {
      "image/png": "[encoded data removed]",
      "text/plain": [
       "<Figure size 311.76x187.056 with 1 Axes>"
      ]
     },
     "metadata": {},
     "output_type": "display_data"
    }
   ],
   "source": [
    "height=6.\n",
    "width = 10.\n",
    "height_per_width = height/width\n",
    "fig = plt.figure(figsize=(4.33,4.33*height_per_width))\n",
    "fig.patch.set_facecolor('xkcd:white')\n",
    "plt.semilogy(N, classical, 'ko:', alpha=1, markersize=3, label='Classical')\n",
    "plt.semilogy(N, cgls, 'rs-', alpha=1, markersize=3, label='Standard CGLS')\n",
    "plt.semilogy(N, cgls_bccb, 'b^--', alpha=1, markersize=3, label='Convolutional CGLS')\n",
    "#plt.axis('scaled')\n",
    "#plt.xlim(np.min(N)-1,np.max(N)+1)\n",
    "#plt.ylim(10**7,10**15)\n",
    "plt.xticks(fontsize=10)\n",
    "plt.yticks(fontsize=10)\n",
    "plt.xlabel('Number of observations', fontsize=10)\n",
    "plt.ylabel('Floating points', fontsize=10)\n",
    "plt.grid(True)\n",
    "plt.tight_layout()\n",
    "plt.legend(loc='upper left', fontsize=4);\n",
    "plt.savefig('figures/Figure 2.png', dpi= 1200)"
   ]
  },
  {
   "cell_type": "code",
   "execution_count": null,
   "metadata": {},
   "outputs": [],
   "source": []
  }
 ],
 "metadata": {
  "kernelspec": {
   "display_name": "Python 3",
   "language": "python",
   "name": "python3"
  },
  "language_info": {
   "codemirror_mode": {
    "name": "ipython",
    "version": 3
   },
   "file_extension": ".py",
   "mimetype": "text/x-python",
   "name": "python",
   "nbconvert_exporter": "python",
   "pygments_lexer": "ipython3",
   "version": "3.8.8"
  }
 },
 "nbformat": 4,
 "nbformat_minor": 4
}
