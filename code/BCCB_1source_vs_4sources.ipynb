{
 "cells": [
  {
   "cell_type": "markdown",
   "metadata": {},
   "source": [
    "The sensitivity matrix of the equivalent layer linear system for magnetic data is given by:\n",
    "\n",
    "$A = cte \\, \\hat{F}^T \\, H \\, \\hat{h} $\n",
    "\n",
    "where: $\\hat{F}^T = [cos(I) cos(D) \\quad cos(I)sen(D) \\quad sen(I)] \\,$ is the cosine directions of the main magnetic field and\n",
    "\n",
    "$\\hat{h} =\\begin{bmatrix}\n",
    "\tcos(i) cos(d)\\\\\n",
    "\tcos(i)sen(d)\\\\ \n",
    "\tsen(i)\n",
    "\t\\end{bmatrix}\\,$ is the cosine directions of the equivalent sources magnetizations.\n",
    "\n",
    "$H = \\pmatrix{H^{xx} & H^{xy} & H^{xz} \\\\ H^{xy} & H^{yy} & H^{yz} \\\\ H^{xz} & H^{yz} & H^{zz}}$\n",
    "\n",
    "$H^{xx}$: Symmetric (symmetric BT - symmetric TB)\n",
    "\n",
    "$H^{xy}$: Symmetric (skew symmetric BT - skew symmetric TB)\n",
    "\n",
    "$H^{xz}$: Skew-symmetric (skew symmetric BT - symmetric TB)\n",
    "\n",
    "$H^{yy}$: Symmetric (symmetric BT - symmetric TB)\n",
    "\n",
    "$H^{yz}$: Skew-symmetric (symmetric BT - skew symmetric TB)\n",
    "\n",
    "$H^{zz}$: Symmetric (symmetric BT - symmetric TB)\n",
    "\n",
    "$A$: in general Nonsymmetric (nonsymmetric BT - nonsymmetric TB)\n",
    "\n",
    "Symmetric BTTB and skew symmetric BTTB matrices can be entirely described by theirs first row or first column.\n",
    "\n",
    "If we consider that $cte$, $F^T$ and $\\hat{h}$ are constants that are multiplying the second derivatives of the harmonic funtion $1/r$, the sensibility matrix $A$ is purely the sum of the components $H_{xx} + H_{xy} + H_{xz} + H_{xy} + H_{yy} + H_{yz} + H_{xz} + H_{yz} + H_{zz}$ multiplied by the respectives constants of each component.\n",
    "\n",
    "Thus, despite $A$ be neither symmetric BTTB matrix or skew-symmetric, it can be in fact, written by calculating only the first row or column of these components.\n",
    "\n",
    "Taking advantage that any BTTB matrix can be transformed into a BCCB matrix and any BCCB matrix can be diagonalized using only its first column, it is possible to say that physically, only the effect of $1$ equivalent source is necessary to estimate the whole set of equivalent sources within the equivalent layer.\n",
    "\n",
    "At the same time, taking in account that the BTTB matrix for magnetic data is a nonsymmetric BTTB, another way to calculate the first column of the BCCB matrix is to calculate the effect of the 4 sources at the edge of the equivalent layer (the first and last columns or rows of the first and the last columns or rows of blocks in the BTTB matrix).\n",
    "\n",
    "At least for the algorithm that I was able to pull it off, the last is more computational efficient for fewer data (less than 150 000 observation points) and less memory dependent, but loses the property or \"physical comprehension\" of $1$ equivalent source usage."
   ]
  },
  {
   "cell_type": "markdown",
   "metadata": {},
   "source": [
    "## Import"
   ]
  },
  {
   "cell_type": "code",
   "execution_count": 4,
   "metadata": {},
   "outputs": [],
   "source": [
    "import numpy as np\n",
    "import sys\n",
    "from matplotlib import pyplot as plt\n",
    "from numpy.linalg import inv, norm\n",
    "from scipy.optimize import curve_fit\n",
    "import pickle as pickle\n",
    "from sys import getsizeof\n",
    "import gzip\n",
    "import bz2\n",
    "from timeit import default_timer as time\n",
    "import functions_eq_mag as fc\n",
    "import functions_fatiando as ft\n",
    "%matplotlib inline"
   ]
  },
  {
   "cell_type": "markdown",
   "metadata": {},
   "source": [
    "## Load pickle data"
   ]
  },
  {
   "cell_type": "code",
   "execution_count": null,
   "metadata": {},
   "outputs": [],
   "source": [
    "with open('time_1vs4_sources.pickle', 'rb') as r:\n",
    "    time_sources = pickle.load(r)"
   ]
  },
  {
   "cell_type": "markdown",
   "metadata": {},
   "source": [
    "### Observation and Equivalent layer grids"
   ]
  },
  {
   "cell_type": "code",
   "execution_count": 5,
   "metadata": {},
   "outputs": [],
   "source": [
    "# Create a regular grid at 0m height\n",
    "area = [1, 4, 1, 6]\n",
    "#area = [-5000., 5000., -4000., 4000.]\n",
    "#shape = (50, 50)\n",
    "shape = (4, 3)\n",
    "xi, yi, zi = ft.gridder_regular(area, shape, z=0.)\n",
    "\n",
    "# Equivalent Layer\n",
    "areaj = [1, 4, 1, 6]\n",
    "#areaj = [-5000., 5000., -4000., 4000.]\n",
    "#shapej = (50, 50)\n",
    "shapej = (4, 3)\n",
    "xj, yj, zj = ft.gridder_regular(areaj, shapej, z=900.)\n",
    "\n",
    "N = shape[0]*shape[1]\n",
    "M = shapej[0]*shapej[1]"
   ]
  },
  {
   "cell_type": "markdown",
   "metadata": {},
   "source": [
    "### Magnetic configuration"
   ]
  },
  {
   "cell_type": "code",
   "execution_count": 6,
   "metadata": {},
   "outputs": [],
   "source": [
    "# Magnetic Configuration\n",
    "inc0 = np.deg2rad(-30.)\n",
    "dec0 = np.deg2rad(40.)\n",
    "inc = np.deg2rad(25.)\n",
    "dec = np.deg2rad(76.)\n",
    "F = np.array([np.cos(inc0)*np.cos(dec0), np.cos(inc0)*np.sin(dec0), np.sin(inc0)])\n",
    "h = np.array([np.cos(inc)*np.cos(dec), np.cos(inc)*np.sin(dec), np.sin(inc)])"
   ]
  },
  {
   "cell_type": "markdown",
   "metadata": {},
   "source": [
    "# Sensitivity Matrix Toeplitz Construction To BCCB first column"
   ]
  },
  {
   "cell_type": "markdown",
   "metadata": {},
   "source": [
    "### 1 source"
   ]
  },
  {
   "cell_type": "code",
   "execution_count": 15,
   "metadata": {},
   "outputs": [
    {
     "name": "stdout",
     "output_type": "stream",
     "text": [
      "0.0015215999997053586\n"
     ]
    }
   ],
   "source": [
    "s = time()\n",
    "\n",
    "Hxx,Hxy,Hxz,Hyy,Hyz,Hzz = fc.h_bttb_mag(xi,yi,zi,zj,F,h,shape)\n",
    "cev_mag_1 = fc.ones_cev_mag(Hxx,Hxy,Hxz,Hyy,Hyz,Hzz,shape,N,F,h)\n",
    "\n",
    "e = time()\n",
    "tcpu = e - s\n",
    "print (tcpu)"
   ]
  },
  {
   "cell_type": "markdown",
   "metadata": {},
   "source": [
    "### 4 edge sources"
   ]
  },
  {
   "cell_type": "code",
   "execution_count": 16,
   "metadata": {},
   "outputs": [
    {
     "name": "stdout",
     "output_type": "stream",
     "text": [
      "0.0009454000000914675\n"
     ]
    }
   ],
   "source": [
    "s = time()\n",
    "\n",
    "bttb_0, bttb_1, bttb_2, bttb_3 = fc.bttb_mag(xi,yi,zi,zj,F,h,shape)\n",
    "cev_mag_4 = fc.cev_mag(bttb_0,bttb_1,bttb_2,bttb_3,shape,N)\n",
    "\n",
    "e = time()\n",
    "tcpu = e - s\n",
    "print (tcpu)"
   ]
  },
  {
   "cell_type": "code",
   "execution_count": 11,
   "metadata": {},
   "outputs": [
    {
     "data": {
      "text/plain": [
       "True"
      ]
     },
     "execution_count": 11,
     "metadata": {},
     "output_type": "execute_result"
    }
   ],
   "source": [
    "np.allclose(cev_mag_1, cev_mag_4, atol=1e-15)"
   ]
  },
  {
   "cell_type": "markdown",
   "metadata": {},
   "source": [
    "### BTTB transposed (necessary during CGLS method)"
   ]
  },
  {
   "cell_type": "markdown",
   "metadata": {},
   "source": [
    "### 1 source"
   ]
  },
  {
   "cell_type": "code",
   "execution_count": 12,
   "metadata": {},
   "outputs": [
    {
     "name": "stdout",
     "output_type": "stream",
     "text": [
      "0.001455300000088755\n"
     ]
    }
   ],
   "source": [
    "s = time()\n",
    "\n",
    "Hxx,Hxy,Hxz,Hyy,Hyz,Hzz = fc.h_bttb_mag(xi,yi,zi,zj,F,h,shape)\n",
    "cev_mag_row_1 = fc.ones_cev_mag_row(Hxx,Hxy,Hxz,Hyy,Hyz,Hzz,shape,N,F,h)\n",
    "\n",
    "e = time()\n",
    "tcpu = e - s\n",
    "print (tcpu)"
   ]
  },
  {
   "cell_type": "markdown",
   "metadata": {},
   "source": [
    "### 4 edge sources"
   ]
  },
  {
   "cell_type": "code",
   "execution_count": 13,
   "metadata": {},
   "outputs": [
    {
     "name": "stdout",
     "output_type": "stream",
     "text": [
      "0.0012058999996042985\n"
     ]
    }
   ],
   "source": [
    "s = time()\n",
    "\n",
    "bttb_0, bttb_1, bttb_2, bttb_3 = fc.bttb_mag(xi,yi,zi,zj,F,h,shape)\n",
    "cev_mag_row_4 = fc.cev_mag_row(bttb_0,bttb_1,bttb_2,bttb_3,shape,N)\n",
    "\n",
    "e = time()\n",
    "tcpu = e - s\n",
    "print (tcpu)"
   ]
  },
  {
   "cell_type": "code",
   "execution_count": 14,
   "metadata": {},
   "outputs": [
    {
     "data": {
      "text/plain": [
       "True"
      ]
     },
     "execution_count": 14,
     "metadata": {},
     "output_type": "execute_result"
    }
   ],
   "source": [
    "np.allclose(cev_mag_row_1, cev_mag_row_4, atol=1e-15)"
   ]
  },
  {
   "cell_type": "markdown",
   "metadata": {},
   "source": [
    "## Time comparison between 1 source vs. 4 sources"
   ]
  },
  {
   "cell_type": "markdown",
   "metadata": {},
   "source": [
    "### 1 source"
   ]
  },
  {
   "cell_type": "code",
   "execution_count": 28,
   "metadata": {},
   "outputs": [],
   "source": [
    "area = [-100, 100, -100, 100]\n",
    "shape_list = []\n",
    "temp_1 = []\n",
    "for i in range(30):\n",
    "    shape = (100+i*25, 100+i*25)\n",
    "    xi, yi, zi = ft.gridder_regular(area, shape, z=0.)\n",
    "    xj, yj, zj = ft.gridder_regular(area, shape, z=900.)\n",
    "\n",
    "    N = shape[0]*shape[1]\n",
    "    \n",
    "    s = time()\n",
    "    Hxx,Hxy,Hxz,Hyy,Hyz,Hzz = fc.h_bttb_mag(xi,yi,zi,zj,F,h,shape)\n",
    "    cev_mag_1 = fc.ones_cev_mag(Hxx,Hxy,Hxz,Hyy,Hyz,Hzz,shape,N,F,h)\n",
    "    e = time()\n",
    "    tcpu = e - s\n",
    "    shape_list.append(N)\n",
    "    temp_1.append(tcpu)"
   ]
  },
  {
   "cell_type": "markdown",
   "metadata": {},
   "source": [
    "### 4 sources"
   ]
  },
  {
   "cell_type": "code",
   "execution_count": 29,
   "metadata": {},
   "outputs": [],
   "source": [
    "area = [-100, 100, -100, 100]\n",
    "temp_4 = []\n",
    "for i in range(30):\n",
    "    shape = (100+i*25, 100+i*25)\n",
    "    xi, yi, zi = ft.gridder_regular(area, shape, z=0.)\n",
    "    xj, yj, zj = ft.gridder_regular(area, shape, z=900.)\n",
    "\n",
    "    N = shape[0]*shape[1]\n",
    "    \n",
    "    s = time()\n",
    "    bttb_0, bttb_1, bttb_2, bttb_3 = fc.bttb_mag(xi,yi,zi,zj,F,h,shape)\n",
    "    cev_mag_row_4 = fc.cev_mag_row(bttb_0,bttb_1,bttb_2,bttb_3,shape,N)\n",
    "    e = time()\n",
    "    tcpu = e - s\n",
    "    temp_4.append(tcpu)"
   ]
  },
  {
   "cell_type": "code",
   "execution_count": 31,
   "metadata": {},
   "outputs": [],
   "source": [
    "time_sources = dict()\n",
    "time_sources['shapes'] = shape_list\n",
    "time_sources['1source'] = temp_1\n",
    "time_sources['4source'] = temp_4"
   ]
  },
  {
   "cell_type": "code",
   "execution_count": 32,
   "metadata": {},
   "outputs": [],
   "source": [
    "#save the data\n",
    "#file_name = 'time_1vs4_sources.pickle'\n",
    "#with open(file_name, 'wb') as f:\n",
    "#    pickle.dump(time_sources, f)"
   ]
  },
  {
   "cell_type": "code",
   "execution_count": 36,
   "metadata": {},
   "outputs": [
    {
     "data": {
      "image/png": "[encoded data removed]",
      "text/plain": [
       "<Figure size 576x432 with 1 Axes>"
      ]
     },
     "metadata": {},
     "output_type": "display_data"
    }
   ],
   "source": [
    "fig = plt.figure(figsize=(8,6))\n",
    "fig.patch.set_facecolor('xkcd:white')\n",
    "plt.plot(time_sources['shapes'], time_sources['1source'], label='1 source')\n",
    "plt.plot(time_sources['shapes'], time_sources['4source'], label='4 sources')\n",
    "plt.ylabel('Time (s)', fontsize=14)\n",
    "plt.xlabel('Number of data', fontsize=14)\n",
    "plt.xticks(fontsize=11)\n",
    "plt.yticks(fontsize=11)\n",
    "plt.legend(loc='best')\n",
    "plt.tight_layout()\n",
    "#plt.savefig('figures/time_sources_mag.png', dpi= 500)"
   ]
  },
  {
   "cell_type": "code",
   "execution_count": null,
   "metadata": {},
   "outputs": [],
   "source": []
  }
 ],
 "metadata": {
  "anaconda-cloud": {},
  "kernelspec": {
   "display_name": "Python 3",
   "language": "python",
   "name": "python3"
  },
  "language_info": {
   "codemirror_mode": {
    "name": "ipython",
    "version": 3
   },
   "file_extension": ".py",
   "mimetype": "text/x-python",
   "name": "python",
   "nbconvert_exporter": "python",
   "pygments_lexer": "ipython3",
   "version": "3.8.5"
  }
 },
 "nbformat": 4,
 "nbformat_minor": 1
}
