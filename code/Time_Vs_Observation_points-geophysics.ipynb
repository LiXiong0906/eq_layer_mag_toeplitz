{
 "cells": [
  {
   "cell_type": "code",
   "execution_count": 1,
   "metadata": {},
   "outputs": [],
   "source": [
    "import numpy as np\n",
    "import functions_eq_mag as fc\n",
    "import functions_fatiando as ft\n",
    "from timeit import default_timer as time\n",
    "from matplotlib import pyplot as plt\n",
    "import pickle as pickle\n",
    "%matplotlib inline"
   ]
  },
  {
   "cell_type": "markdown",
   "metadata": {},
   "source": [
    "## Create the model"
   ]
  },
  {
   "cell_type": "code",
   "execution_count": 2,
   "metadata": {},
   "outputs": [],
   "source": [
    "# Create a regular grid at 0m height\n",
    "area = [-5000., 5000., -4000., 4000.]\n",
    "\n",
    "# Model\n",
    "verts1 = [[2000, -3000], [4000, -3000], [4000, 1000], [2000, 1000]]\n",
    "#verts2 = [[-2000, 1000], [1000, 1000], [1000, 3000], [-2000, 3000]]\n",
    "verts2 = [[-2000, 2000], [0, 2000], [0, 6000], [-2000, 6000]]\n",
    "model_prism = [ft.mesher_PolygonalPrism(verts1, 900., 1500., props={'magnetization':[2,2,0]}),\n",
    "            ft.mesher_PolygonalPrism(verts2, 700., 1100., props={'magnetization':[2,2,0]})]\n",
    "\n",
    "R = 1000 #Radius\n",
    "xc, yc, zc = -3000.,-2000.,2000. #Center of sphere\n",
    "model_sphere = [ft.mesher_Sphere(xc, yc, zc, R, props={'magnetization':[2,2,0]})]"
   ]
  },
  {
   "cell_type": "code",
   "execution_count": 3,
   "metadata": {},
   "outputs": [],
   "source": [
    "# Magnetic Configuration\n",
    "inc0 = np.deg2rad(10.)\n",
    "dec0 = np.deg2rad(37.)\n",
    "inc = np.deg2rad(10.)\n",
    "dec = np.deg2rad(37.)\n",
    "\n",
    "F = np.array([np.cos(inc0)*np.cos(dec0), np.cos(inc0)*np.sin(dec0), np.sin(inc0)])\n",
    "h = np.array([np.cos(inc)*np.cos(dec), np.cos(inc)*np.sin(dec), np.sin(inc)])"
   ]
  },
  {
   "cell_type": "code",
   "execution_count": 4,
   "metadata": {},
   "outputs": [],
   "source": [
    "with open('time_mag.pickle', 'rb') as r:\n",
    "    time_mag = pickle.load(r)"
   ]
  },
  {
   "cell_type": "markdown",
   "metadata": {},
   "source": [
    "# Time VS Observation points - Up to 22 500"
   ]
  },
  {
   "cell_type": "markdown",
   "metadata": {},
   "source": [
    "### Calculate the time necessary to run the Classical Equivalent Layer"
   ]
  },
  {
   "cell_type": "code",
   "execution_count": 12,
   "metadata": {},
   "outputs": [],
   "source": [
    "time_classical = []\n",
    "N_shape = []\n",
    "shape = [(10,10),(20,20),(30,30),(40,40),(50, 50),(60,60),(70,70),(80,80),(90,90),(100, 100),(150, 150)]\n",
    "for i in range(len(shape)):\n",
    "    xi, yi, zi = ft.gridder_regular(area, shape[i], z=-900.)\n",
    "\n",
    "    tf_prism = ft.polyprism_tf(xi, yi, zi, model_prism, np.rad2deg(inc0), np.rad2deg(dec0))\n",
    "    tf_sphere = ft.sphere_tf(xi, yi, zi, model_sphere, np.rad2deg(inc0), np.rad2deg(dec0))\n",
    "    tf = tf_prism + tf_sphere\n",
    "    tf = ft.utils_contaminate(tf, 0.5, seed=0, percent=False)\n",
    "\n",
    "    zj = np.ones_like(zi)*300\n",
    "    N = shape[i][0]*shape[i][1]\n",
    "    s = time()\n",
    "    p_classic, dobs_classic = fc.classic_mag(xi,yi,zi,zj,F,h,N,tf)\n",
    "    e = time()\n",
    "    tcpu_0 = e - s\n",
    "    time_classical.append(tcpu_0)\n",
    "    N_shape.append(N)"
   ]
  },
  {
   "cell_type": "markdown",
   "metadata": {},
   "source": [
    "### Calculate the time necessary to run the CGLS Equivalent Layer"
   ]
  },
  {
   "cell_type": "code",
   "execution_count": 10,
   "metadata": {},
   "outputs": [],
   "source": [
    "time_cgls = []\n",
    "shape = [(10,10),(20,20),(30,30),(40,40),(50, 50),(60,60),(70,70),(80,80),(90,90),(100, 100),(150, 150)]\n",
    "for i in range(len(shape)):\n",
    "    xi, yi, zi = ft.gridder_regular(area, shape[i], z=-900.)\n",
    "\n",
    "    tf_prism = ft.polyprism_tf(xi, yi, zi, model_prism, np.rad2deg(inc0), np.rad2deg(dec0))\n",
    "    tf_sphere = ft.sphere_tf(xi, yi, zi, model_sphere, np.rad2deg(inc0), np.rad2deg(dec0))\n",
    "    tf = tf_prism + tf_sphere\n",
    "    tf = ft.utils_contaminate(tf, 0.5, seed=0, percent=False)\n",
    "\n",
    "    zj = np.ones_like(zi)*50\n",
    "\n",
    "    itmax = 50\n",
    "    s = time()\n",
    "    p_cgls, dobs_cgls = fc.cgls_eq_mag(xi,yi,zi,zj,shape[i],tf,F,h,itmax)\n",
    "    e = time()\n",
    "    tcpu_cgls = e - s\n",
    "    time_cgls.append(tcpu_cgls)"
   ]
  },
  {
   "cell_type": "markdown",
   "metadata": {},
   "source": [
    "### Calculate the time necessary to run the CGLS_BCCB Equivalent Layer"
   ]
  },
  {
   "cell_type": "code",
   "execution_count": 13,
   "metadata": {},
   "outputs": [],
   "source": [
    "time_bccb = []\n",
    "\n",
    "for i in range(len(shape)):\n",
    "    xi, yi, zi = ft.gridder_regular(area, shape[i], z=-900.)\n",
    "\n",
    "    tf_prism = ft.polyprism_tf(xi, yi, zi, model_prism, np.rad2deg(inc0), np.rad2deg(dec0))\n",
    "    tf_sphere = ft.sphere_tf(xi, yi, zi, model_sphere, np.rad2deg(inc0), np.rad2deg(dec0))\n",
    "    tf = tf_prism + tf_sphere\n",
    "    tf = ft.utils_contaminate(tf, 0.5, seed=0, percent=False)\n",
    "\n",
    "    zj = np.ones_like(zi)*50\n",
    "\n",
    "    itmax = 50\n",
    "    s = time()\n",
    "    p_cgls_bccb, dobs_cgls_bccb = fc.cgls_eq_bccb_mag(xi,yi,zi,zj,shape[i],tf,F,h,itmax)\n",
    "    e = time()\n",
    "    tcpu_bccb = e - s\n",
    "    time_bccb.append(tcpu_bccb)"
   ]
  },
  {
   "cell_type": "markdown",
   "metadata": {},
   "source": [
    "### Plot times"
   ]
  },
  {
   "cell_type": "code",
   "execution_count": 6,
   "metadata": {},
   "outputs": [
    {
     "data": {
      "image/png": "[encoded data removed]",
      "text/plain": [
       "<Figure size 311.76x187.056 with 1 Axes>"
      ]
     },
     "metadata": {},
     "output_type": "display_data"
    }
   ],
   "source": [
    "height=6.\n",
    "width = 10.\n",
    "height_per_width = height/width\n",
    "fig = plt.figure(figsize=(4.33,4.33*height_per_width))\n",
    "fig.patch.set_facecolor('xkcd:white')\n",
    "plt.semilogx(time_mag['shapes'][:-1], time_mag['classical'][:-1], 'ko:', alpha=1, markersize=3, label='Classical')\n",
    "plt.semilogx(time_mag['shapes'][:-1], time_mag['cgls'][:-1], 'rs-', alpha=1, markersize=3, label='Standard CGLS')\n",
    "plt.semilogx(time_mag['shapes'][:-1], time_mag['cgls_bccb'][:-1], 'b^--', alpha=1, markersize=3, label='Convolutional CGLS')\n",
    "#plt.axis('scaled')\n",
    "#plt.xlim(np.min(N_time)-1,np.max(N_time)+1)\n",
    "plt.ylim(np.min(time_mag['cgls_bccb'][:-1])-5,np.max(time_mag['classical'][:-1])+10)\n",
    "plt.xticks(fontsize=10)\n",
    "plt.yticks(fontsize=10)\n",
    "plt.xlabel('Number of observations', fontsize=10)\n",
    "plt.ylabel('Running time (s)', fontsize=10)\n",
    "plt.grid(True)\n",
    "plt.tight_layout()\n",
    "plt.legend(loc='upper left', fontsize=4);\n",
    "plt.savefig('figures/Figure 3.png', dpi= 1200)"
   ]
  },
  {
   "cell_type": "code",
   "execution_count": 31,
   "metadata": {},
   "outputs": [],
   "source": [
    "time_mag = dict()\n",
    "time_mag['shapes'] = N_shape\n",
    "time_mag['classical'] = time_classical\n",
    "time_mag['cgls'] = time_cgls\n",
    "time_mag['cgls_bccb'] = time_bccb"
   ]
  },
  {
   "cell_type": "code",
   "execution_count": 33,
   "metadata": {},
   "outputs": [],
   "source": [
    "#save the data\n",
    "#file_name = 'time_mag.pickle'\n",
    "#with open(file_name, 'wb') as f:\n",
    "#    pickle.dump(time_mag, f)"
   ]
  },
  {
   "cell_type": "code",
   "execution_count": null,
   "metadata": {},
   "outputs": [],
   "source": []
  }
 ],
 "metadata": {
  "kernelspec": {
   "display_name": "Python 3",
   "language": "python",
   "name": "python3"
  },
  "language_info": {
   "codemirror_mode": {
    "name": "ipython",
    "version": 3
   },
   "file_extension": ".py",
   "mimetype": "text/x-python",
   "name": "python",
   "nbconvert_exporter": "python",
   "pygments_lexer": "ipython3",
   "version": "3.8.8"
  }
 },
 "nbformat": 4,
 "nbformat_minor": 4
}
