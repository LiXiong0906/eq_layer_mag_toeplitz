{
 "cells": [
  {
   "cell_type": "markdown",
   "metadata": {},
   "source": [
    "# Import"
   ]
  },
  {
   "cell_type": "code",
   "execution_count": 1,
   "metadata": {},
   "outputs": [],
   "source": [
    "import numpy as np\n",
    "from timeit import default_timer as time\n",
    "from matplotlib import pyplot as plt\n",
    "import matplotlib.cm as cm\n",
    "from numpy.linalg import inv\n",
    "import functions_eq_mag as fc\n",
    "import functions_fatiando as ft\n",
    "import fourier_continuation as fc_c\n",
    "import pickle as pickle\n",
    "%matplotlib inline"
   ]
  },
  {
   "cell_type": "markdown",
   "metadata": {},
   "source": [
    "# Observation and Equivalent layer grids"
   ]
  },
  {
   "cell_type": "code",
   "execution_count": 82,
   "metadata": {},
   "outputs": [],
   "source": [
    "# Create a regular grid at 0m height\n",
    "area = [-5000., 5000., -4000., 4000.]\n",
    "shape = (200, 100)\n",
    "N = shape[0]*shape[1]\n",
    "xi, yi, zi = ft.gridder_regular(area, shape, z=-900.)\n",
    "xi_plot, yi_plot, = xi/1000, yi/1000\n",
    "\n",
    "# Equivalent Layer\n",
    "areaj = [-5000., 5000., -4000., 4000.]\n",
    "shapej = (200, 100)\n",
    "Nj = shapej[0]*shapej[1]\n",
    "xj, yj, zj = ft.gridder_regular(areaj, shapej, z=50)\n",
    "\n",
    "#: Conversion factor from SI units to mGal: :math:`1\\ m/s^2 = 10^5\\ mGal`\n",
    "SI2MGAL = 100000.0\n",
    "#: The gravitational constant in :math:`m^3 kg^{-1} s^{-1}`\n",
    "G = 0.00000000006673\n",
    "\n",
    "# Magnetic Configuration\n",
    "inc0 = np.deg2rad(35.26)\n",
    "dec0 = np.deg2rad(45.)\n",
    "inc = np.deg2rad(35.26)\n",
    "dec = np.deg2rad(45.)\n",
    "\n",
    "F = np.array([np.cos(inc0)*np.cos(dec0), np.cos(inc0)*np.sin(dec0), np.sin(inc0)])\n",
    "h = np.array([np.cos(inc)*np.cos(dec), np.cos(inc)*np.sin(dec), np.sin(inc)])"
   ]
  },
  {
   "cell_type": "code",
   "execution_count": 83,
   "metadata": {},
   "outputs": [],
   "source": [
    "def bttb(x,y,z,h):\n",
    "    '''\n",
    "    Calculates the first row of sensbility matrix.\n",
    "\n",
    "    input\n",
    "    x, y: numpy array - the x, y coordinates\n",
    "    of the grid and equivalent layer points.\n",
    "    z: numpy array - the height of observation points.\n",
    "    h: numpy array - the depth of the equivalent layer.\n",
    "\n",
    "    output\n",
    "    W_bt: numpy array - first line os sensibility matrix.\n",
    "    '''\n",
    "    a = (x-x[0])\n",
    "    b = (y-y[0])\n",
    "    c = (h-z[0])\n",
    "    W_bt = (G*SI2MGAL*c)/((a*a+b*b+c*c)**(1.5))\n",
    "    return W_bt"
   ]
  },
  {
   "cell_type": "code",
   "execution_count": 84,
   "metadata": {},
   "outputs": [],
   "source": [
    "def cev_grav(shape,N,BTTB):\n",
    "    '''\n",
    "    Calculates the eigenvalues of the BCCB matrix.\n",
    "\n",
    "    input\n",
    "    shape: tuple - grid size.\n",
    "    N: scalar - number of observation points.\n",
    "    BTTB: numpy array - first line os sensibility matrix.\n",
    "\n",
    "    output\n",
    "    cev: numpy array - eigenvalues of the BCCB matrix.\n",
    "    '''\n",
    "    cev = np.zeros(4*N)\n",
    "    k = 2*shape[0]-1\n",
    "    for i in range (shape[0]):\n",
    "        block = BTTB[shape[1]*(i):shape[1]*(i+1)]\n",
    "        rev = block[::-1]\n",
    "        cev[shape[1]*(2*i):shape[1]*(2*i+2)] = np.concatenate((block,0,rev[:-1]), axis=None)\n",
    "        if i > 0:\n",
    "            cev[shape[1]*(2*k):shape[1]*(2*k+2)] = cev[shape[1]*(2*i):shape[1]*(2*i+2)]\n",
    "            k -= 1\n",
    "    cev = cev.reshape(2*shape[0],2*shape[1])\n",
    "    return cev"
   ]
  },
  {
   "cell_type": "code",
   "execution_count": 85,
   "metadata": {},
   "outputs": [],
   "source": [
    "def h_bttb_mag(x,y,z,zj,F,h,shape):\n",
    "    '''\n",
    "    Calculates the first row of the sensitivity matrix\n",
    "\n",
    "    input\n",
    "    x, y: numpy array - the x, y coordinates\n",
    "    of the grid and equivalent layer points.\n",
    "    z: numpy array - the height of observation points.\n",
    "    h: numpy array - the depth of the equivalent layer.\n",
    "    shape: tuple - grid size.\n",
    "    potential field at the grid points.\n",
    "    F: numpy array - cosines directions of the main magnetic field.\n",
    "    h: numpy array - cosines directions of the body's magnetization.\n",
    "\n",
    "    output\n",
    "    bttb_0: numpy array - first line of the first row of blocks of the\n",
    "    sensitivity matrix.\n",
    "    bttb_1: numpy array - last line of the first row of blocks of the\n",
    "    sensitivity matrix.\n",
    "    bttb_2: numpy array - first line of the last row of blocks of the\n",
    "    sensitivity matrix.\n",
    "    bttb_3: numpy array - last line of the last row of blocks of the\n",
    "    sensitivity matrix.\n",
    "    '''\n",
    "    # First row of each component of the second derivatives\n",
    "    a = (x-x[0])\n",
    "    b = (y-y[0])\n",
    "    c = (z-zj[0])\n",
    "    r = (a*a+b*b+c*c)\n",
    "    r3 = r**(-1.5)\n",
    "    r5 = r**(2.5)\n",
    "    Hxx = -r3+3*(a*a)/r5\n",
    "    Hxy = 3*(a*b)/r5\n",
    "    Hxz = 3*(a*c)/r5\n",
    "    Hyy = -r3+3*(b*b)/r5\n",
    "    Hyz = 3*(b*c)/r5\n",
    "    Hzz = -r3+3*(c*c)/r5\n",
    "\n",
    "    return Hxx,Hxy,Hxz,Hyy,Hyz,Hzz"
   ]
  },
  {
   "cell_type": "code",
   "execution_count": 86,
   "metadata": {},
   "outputs": [],
   "source": [
    "def ones_cev_mag(Hxx,Hxy,Hxz,Hyy,Hyz,Hzz,shape,N,F,h):\n",
    "    '''\n",
    "    Calculates the eigenvalues of the BCCB matrix using \n",
    "    only the effect of one equivalent source.\n",
    "\n",
    "    input\n",
    "    shape: tuple - grid size.\n",
    "    N: scalar - number of observation points.\n",
    "    Hxx,Hxy,Hxz,Hyy,Hyz,Hzz: numpy array - first row of each component of \n",
    "    the second derivatives of 1/r necessary to calculate the BCCB eigenvalues.\n",
    "\n",
    "    output\n",
    "    cev: numpy array - eigenvalues of the BCCB matrix.\n",
    "    '''\n",
    "    bccb_xx = np.zeros(4*N)\n",
    "    bccb_xy = np.zeros(4*N)\n",
    "    bccb_xz = np.zeros(4*N)\n",
    "    bccb_yy = np.zeros(4*N)\n",
    "    bccb_yz = np.zeros(4*N)\n",
    "    bccb_zz = np.zeros(4*N)\n",
    "    k = 2*shape[0]-1\n",
    "\n",
    "    for i in range (shape[0]):\n",
    "        block_xx = Hxx[shape[1]*(i):shape[1]*(i+1)]\n",
    "        block_xy = Hxy[shape[1]*(i):shape[1]*(i+1)]\n",
    "        block_xz = Hxz[shape[1]*(i):shape[1]*(i+1)]\n",
    "        block_yy = Hyy[shape[1]*(i):shape[1]*(i+1)]\n",
    "        block_yz = Hyz[shape[1]*(i):shape[1]*(i+1)]\n",
    "        block_zz = Hzz[shape[1]*(i):shape[1]*(i+1)]\n",
    "        rev_xx = block_xx[::-1]\n",
    "        rev_xy = -block_xy[::-1]\n",
    "        rev_xz = block_xz[::-1]\n",
    "        rev_yy = block_yy[::-1]\n",
    "        rev_yz = -block_yz[::-1]\n",
    "        rev_zz = block_zz[::-1]\n",
    "        bccb_xx[shape[1]*(2*i):shape[1]*(2*i+2)] = np.concatenate((block_xx,\n",
    "        0,rev_xx[:-1]), axis=None)\n",
    "        bccb_xy[shape[1]*(2*i):shape[1]*(2*i+2)] = np.concatenate((block_xy,\n",
    "        0,rev_xy[:-1]), axis=None)\n",
    "        bccb_xz[shape[1]*(2*i):shape[1]*(2*i+2)] = np.concatenate((block_xz,\n",
    "        0,rev_xz[:-1]), axis=None)\n",
    "        bccb_yy[shape[1]*(2*i):shape[1]*(2*i+2)] = np.concatenate((block_yy,\n",
    "        0,rev_yy[:-1]), axis=None)\n",
    "        bccb_yz[shape[1]*(2*i):shape[1]*(2*i+2)] = np.concatenate((block_yz,\n",
    "        0,rev_yz[:-1]), axis=None)\n",
    "        bccb_zz[shape[1]*(2*i):shape[1]*(2*i+2)] = np.concatenate((block_zz,\n",
    "        0,rev_zz[:-1]), axis=None)\n",
    "        if i > 0:\n",
    "            bccb_xx[shape[1]*(2*k):shape[1]*(2*k+2)] = bccb_xx[shape[1]*\n",
    "            (2*i):shape[1]*(2*i+2)]\n",
    "            bccb_xy[shape[1]*(2*k):shape[1]*(2*k+2)] = -bccb_xy[shape[1]*\n",
    "            (2*i):shape[1]*(2*i+2)]\n",
    "            bccb_xz[shape[1]*(2*k):shape[1]*(2*k+2)] = -bccb_xz[shape[1]*\n",
    "            (2*i):shape[1]*(2*i+2)]\n",
    "            bccb_yy[shape[1]*(2*k):shape[1]*(2*k+2)] = bccb_yy[shape[1]*\n",
    "            (2*i):shape[1]*(2*i+2)]\n",
    "            bccb_yz[shape[1]*(2*k):shape[1]*(2*k+2)] = bccb_yz[shape[1]*\n",
    "            (2*i):shape[1]*(2*i+2)]\n",
    "            bccb_zz[shape[1]*(2*k):shape[1]*(2*k+2)] = bccb_zz[shape[1]*\n",
    "            (2*i):shape[1]*(2*i+2)]\n",
    "            k -= 1\n",
    "\n",
    "    bccb = 100*((F[0]*bccb_xx+F[1]*bccb_xy+F[2]*bccb_xz)*h[0] + (F[0]*\n",
    "    bccb_xy+F[1]*bccb_yy+F[2]*bccb_yz)*h[1] + (F[0]*bccb_xz+F[1]*\n",
    "    bccb_yz+F[2]*bccb_zz)*h[2])\n",
    "\n",
    "    BCCB = bccb.reshape(2*shape[0],2*shape[1])\n",
    "    return BCCB"
   ]
  },
  {
   "cell_type": "markdown",
   "metadata": {},
   "source": [
    "### BCCB  Grav"
   ]
  },
  {
   "cell_type": "code",
   "execution_count": 87,
   "metadata": {},
   "outputs": [],
   "source": [
    "BTTB_grav1 = bttb(xi,yi,zi,zj)"
   ]
  },
  {
   "cell_type": "code",
   "execution_count": 88,
   "metadata": {},
   "outputs": [
    {
     "name": "stdout",
     "output_type": "stream",
     "text": [
      "0.0024056000002019573\n"
     ]
    }
   ],
   "source": [
    "s = time()\n",
    "bccb_grav = cev_grav(shape,N,BTTB_grav1)\n",
    "w = time()\n",
    "print(w-s)"
   ]
  },
  {
   "cell_type": "code",
   "execution_count": 89,
   "metadata": {},
   "outputs": [
    {
     "data": {
      "text/plain": [
       "(400, 200)"
      ]
     },
     "execution_count": 89,
     "metadata": {},
     "output_type": "execute_result"
    }
   ],
   "source": [
    "bccb_grav.shape"
   ]
  },
  {
   "cell_type": "markdown",
   "metadata": {},
   "source": [
    "### BCCB  Mag"
   ]
  },
  {
   "cell_type": "code",
   "execution_count": 90,
   "metadata": {},
   "outputs": [],
   "source": [
    "Hxx,Hxy,Hxz,Hyy,Hyz,Hzz = h_bttb_mag(xi,yi,zi,zj,F,h,shape)"
   ]
  },
  {
   "cell_type": "code",
   "execution_count": 108,
   "metadata": {},
   "outputs": [
    {
     "name": "stdout",
     "output_type": "stream",
     "text": [
      "0.012353000000075554\n"
     ]
    }
   ],
   "source": [
    "s = time()\n",
    "bccb_mag = ones_cev_mag(Hxx,Hxy,Hxz,Hyy,Hyz,Hzz,shape,N,F,h)\n",
    "w = time()\n",
    "print(w-s)"
   ]
  },
  {
   "cell_type": "markdown",
   "metadata": {},
   "source": [
    "## BCCB Grav - construction with no for"
   ]
  },
  {
   "cell_type": "code",
   "execution_count": 92,
   "metadata": {},
   "outputs": [
    {
     "name": "stdout",
     "output_type": "stream",
     "text": [
      "0.0004923999999846274\n"
     ]
    }
   ],
   "source": [
    "BTTB_grav2 = bttb(xi,yi,zi,zj)\n",
    "BTTB_matrix = BTTB_grav2.reshape(shape[0],shape[1])\n",
    "\n",
    "s = time()\n",
    "bccb_grav_no_for = np.zeros((shape[0]*2,shape[1]*2))\n",
    "bccb_grav_no_for[:shape[0],:shape[1]] = BTTB_matrix\n",
    "bccb_grav_no_for[:shape[0],shape[1]+1:] = BTTB_matrix[:,1:shape[1]][:,::-1]\n",
    "bccb_grav_no_for[shape[0]+1:,:] = bccb_grav_no_for[1:shape[0],:][::-1]\n",
    "w = time()\n",
    "print(w-s)"
   ]
  },
  {
   "cell_type": "code",
   "execution_count": 93,
   "metadata": {},
   "outputs": [
    {
     "data": {
      "text/plain": [
       "True"
      ]
     },
     "execution_count": 93,
     "metadata": {},
     "output_type": "execute_result"
    }
   ],
   "source": [
    "np.allclose(bccb_grav,bccb_grav_no_for, atol=1e-12)"
   ]
  },
  {
   "cell_type": "code",
   "execution_count": 94,
   "metadata": {},
   "outputs": [
    {
     "data": {
      "text/plain": [
       "True"
      ]
     },
     "execution_count": 94,
     "metadata": {},
     "output_type": "execute_result"
    }
   ],
   "source": [
    "np.allclose(np.fft.fft2(bccb_grav),np.fft.fft2(bccb_grav_no_for), atol=1e-15)"
   ]
  },
  {
   "cell_type": "markdown",
   "metadata": {},
   "source": [
    "## BCCB Mag - construction with no for"
   ]
  },
  {
   "cell_type": "code",
   "execution_count": 95,
   "metadata": {},
   "outputs": [],
   "source": [
    "Hxx,Hxy,Hxz,Hyy,Hyz,Hzz = h_bttb_mag(xi,yi,zi,zj,F,h,shape)"
   ]
  },
  {
   "cell_type": "code",
   "execution_count": 109,
   "metadata": {},
   "outputs": [
    {
     "name": "stdout",
     "output_type": "stream",
     "text": [
      "0.004857200000060402\n"
     ]
    }
   ],
   "source": [
    "Hxx_matrix = Hxx.reshape(shape[0],shape[1])\n",
    "Hxy_matrix = Hxy.reshape(shape[0],shape[1])\n",
    "Hxz_matrix = Hxz.reshape(shape[0],shape[1])\n",
    "Hyy_matrix = Hyy.reshape(shape[0],shape[1])\n",
    "Hyz_matrix = Hyz.reshape(shape[0],shape[1])\n",
    "Hzz_matrix = -Hxx_matrix-Hyy_matrix\n",
    "\n",
    "s = time()\n",
    "bccb_xx = np.zeros((shape[0]*2,shape[1]*2))\n",
    "bccb_xx[:shape[0],:shape[1]] = Hxx_matrix\n",
    "bccb_xx[:shape[0],shape[1]+1:] = Hxx_matrix[:,1:shape[1]][:,::-1]\n",
    "bccb_xx[shape[0]+1:,:] = bccb_xx[1:shape[0],:][::-1]\n",
    "\n",
    "bccb_xy = np.zeros((shape[0]*2,shape[1]*2))\n",
    "bccb_xy[:shape[0],:shape[1]] = Hxy_matrix\n",
    "bccb_xy[:shape[0],shape[1]+1:] = -Hxy_matrix[:,1:shape[1]][:,::-1]\n",
    "bccb_xy[shape[0]+1:,:] = -bccb_xy[1:shape[0],:][::-1]\n",
    "\n",
    "bccb_xz = np.zeros((shape[0]*2,shape[1]*2))\n",
    "bccb_xz[:shape[0],:shape[1]] = Hxz_matrix\n",
    "bccb_xz[:shape[0],shape[1]+1:] = Hxz_matrix[:,1:shape[1]][:,::-1]\n",
    "bccb_xz[shape[0]+1:,:] = -bccb_xz[1:shape[0],:][::-1]\n",
    "\n",
    "bccb_yy = np.zeros((shape[0]*2,shape[1]*2))\n",
    "bccb_yy[:shape[0],:shape[1]] = Hyy_matrix\n",
    "bccb_yy[:shape[0],shape[1]+1:] = Hyy_matrix[:,1:shape[1]][:,::-1]\n",
    "bccb_yy[shape[0]+1:,:] = bccb_yy[1:shape[0],:][::-1]\n",
    "\n",
    "bccb_yz = np.zeros((shape[0]*2,shape[1]*2))\n",
    "bccb_yz[:shape[0],:shape[1]] = Hyz_matrix\n",
    "bccb_yz[:shape[0],shape[1]+1:] = -Hyz_matrix[:,1:shape[1]][:,::-1]\n",
    "bccb_yz[shape[0]+1:,:] = bccb_yz[1:shape[0],:][::-1]\n",
    "\n",
    "bccb_zz = np.zeros((shape[0]*2,shape[1]*2))\n",
    "bccb_zz[:shape[0],:shape[1]] = Hzz_matrix\n",
    "bccb_zz[:shape[0],shape[1]+1:] = Hzz_matrix[:,1:shape[1]][:,::-1]\n",
    "bccb_zz[shape[0]+1:,:] = bccb_zz[1:shape[0],:][::-1]\n",
    "\n",
    "bccb_mag_no_for = 100*((F[0]*bccb_xx+F[1]*bccb_xy+F[2]*bccb_xz)*h[0] + (F[0]*\n",
    "                        bccb_xy+F[1]*bccb_yy+F[2]*bccb_yz)*h[1] + (F[0]*bccb_xz+F[1]*\n",
    "                        bccb_yz+F[2]*bccb_zz)*h[2])\n",
    "w = time()\n",
    "print(w-s)"
   ]
  },
  {
   "cell_type": "code",
   "execution_count": 118,
   "metadata": {},
   "outputs": [
    {
     "name": "stdout",
     "output_type": "stream",
     "text": [
      "0.00491720000013629\n"
     ]
    }
   ],
   "source": [
    "Hxx_matrix = Hxx.reshape(shape[0],shape[1])\n",
    "Hxy_matrix = Hxy.reshape(shape[0],shape[1])\n",
    "Hxz_matrix = Hxz.reshape(shape[0],shape[1])\n",
    "Hyy_matrix = Hyy.reshape(shape[0],shape[1])\n",
    "Hyz_matrix = Hyz.reshape(shape[0],shape[1])\n",
    "\n",
    "s = time()\n",
    "bccb_xx = np.zeros((shape[0]*2,shape[1]*2))\n",
    "bccb_xx[:shape[0],:shape[1]] = Hxx_matrix\n",
    "bccb_xx[:shape[0],shape[1]+1:] = Hxx_matrix[:,1:shape[1]][:,::-1]\n",
    "bccb_xx[shape[0]+1:,:] = bccb_xx[1:shape[0],:][::-1]\n",
    "\n",
    "bccb_xy = np.zeros((shape[0]*2,shape[1]*2))\n",
    "bccb_xy[:shape[0],:shape[1]] = Hxy_matrix\n",
    "bccb_xy[:shape[0],shape[1]+1:] = -Hxy_matrix[:,1:shape[1]][:,::-1]\n",
    "bccb_xy[shape[0]+1:,:] = -bccb_xy[1:shape[0],:][::-1]\n",
    "\n",
    "bccb_xz = np.zeros((shape[0]*2,shape[1]*2))\n",
    "bccb_xz[:shape[0],:shape[1]] = Hxz_matrix\n",
    "bccb_xz[:shape[0],shape[1]+1:] = Hxz_matrix[:,1:shape[1]][:,::-1]\n",
    "bccb_xz[shape[0]+1:,:] = -bccb_xz[1:shape[0],:][::-1]\n",
    "\n",
    "bccb_yy = np.zeros((shape[0]*2,shape[1]*2))\n",
    "bccb_yy[:shape[0],:shape[1]] = Hyy_matrix\n",
    "bccb_yy[:shape[0],shape[1]+1:] = Hyy_matrix[:,1:shape[1]][:,::-1]\n",
    "bccb_yy[shape[0]+1:,:] = bccb_yy[1:shape[0],:][::-1]\n",
    "\n",
    "bccb_yz = np.zeros((shape[0]*2,shape[1]*2))\n",
    "bccb_yz[:shape[0],:shape[1]] = Hyz_matrix\n",
    "bccb_yz[:shape[0],shape[1]+1:] = -Hyz_matrix[:,1:shape[1]][:,::-1]\n",
    "bccb_yz[shape[0]+1:,:] = bccb_yz[1:shape[0],:][::-1]\n",
    "\n",
    "bccb_zz = -bccb_xx-bccb_yy\n",
    "\n",
    "bccb_mag_no_for = 100*((F[0]*bccb_xx+F[1]*bccb_xy+F[2]*bccb_xz)*h[0] + (F[0]*\n",
    "                        bccb_xy+F[1]*bccb_yy+F[2]*bccb_yz)*h[1] + (F[0]*bccb_xz+F[1]*\n",
    "                        bccb_yz+F[2]*bccb_zz)*h[2])\n",
    "w = time()\n",
    "print(w-s)"
   ]
  },
  {
   "cell_type": "code",
   "execution_count": 111,
   "metadata": {},
   "outputs": [
    {
     "data": {
      "text/plain": [
       "True"
      ]
     },
     "execution_count": 111,
     "metadata": {},
     "output_type": "execute_result"
    }
   ],
   "source": [
    "np.allclose(bccb_mag,bccb_mag_no_for, atol=1e-12)"
   ]
  },
  {
   "cell_type": "code",
   "execution_count": 112,
   "metadata": {},
   "outputs": [
    {
     "data": {
      "text/plain": [
       "True"
      ]
     },
     "execution_count": 112,
     "metadata": {},
     "output_type": "execute_result"
    }
   ],
   "source": [
    "np.allclose(np.fft.fft2(bccb_mag),np.fft.fft2(bccb_mag_no_for), atol=1e-15)"
   ]
  },
  {
   "cell_type": "markdown",
   "metadata": {},
   "source": [
    "## Tests"
   ]
  },
  {
   "cell_type": "code",
   "execution_count": 145,
   "metadata": {},
   "outputs": [
    {
     "data": {
      "text/plain": [
       "array([[ 1,  2,  3],\n",
       "       [ 4,  5,  6],\n",
       "       [ 7,  8,  9],\n",
       "       [10, 11, 12]])"
      ]
     },
     "execution_count": 145,
     "metadata": {},
     "output_type": "execute_result"
    }
   ],
   "source": [
    "Nx = 4\n",
    "Ny = 3\n",
    "a = np.array([[1],[2],[3],[4],[5],[6],[7],[8],[9],[10],[11],[12]])\n",
    "b = a.reshape(Nx,Ny)\n",
    "b"
   ]
  },
  {
   "cell_type": "code",
   "execution_count": 146,
   "metadata": {},
   "outputs": [
    {
     "data": {
      "text/plain": [
       "array([[0., 0., 0., 0., 0., 0.],\n",
       "       [0., 0., 0., 0., 0., 0.],\n",
       "       [0., 0., 0., 0., 0., 0.],\n",
       "       [0., 0., 0., 0., 0., 0.],\n",
       "       [0., 0., 0., 0., 0., 0.],\n",
       "       [0., 0., 0., 0., 0., 0.],\n",
       "       [0., 0., 0., 0., 0., 0.],\n",
       "       [0., 0., 0., 0., 0., 0.]])"
      ]
     },
     "execution_count": 146,
     "metadata": {},
     "output_type": "execute_result"
    }
   ],
   "source": [
    "c = np.zeros((Nx*2,Ny*2))\n",
    "c"
   ]
  },
  {
   "cell_type": "code",
   "execution_count": 147,
   "metadata": {},
   "outputs": [
    {
     "data": {
      "text/plain": [
       "array([[ 1.,  2.,  3.,  0.,  0.,  0.],\n",
       "       [ 4.,  5.,  6.,  0.,  0.,  0.],\n",
       "       [ 7.,  8.,  9.,  0.,  0.,  0.],\n",
       "       [10., 11., 12.,  0.,  0.,  0.],\n",
       "       [ 0.,  0.,  0.,  0.,  0.,  0.],\n",
       "       [ 0.,  0.,  0.,  0.,  0.,  0.],\n",
       "       [ 0.,  0.,  0.,  0.,  0.,  0.],\n",
       "       [ 0.,  0.,  0.,  0.,  0.,  0.]])"
      ]
     },
     "execution_count": 147,
     "metadata": {},
     "output_type": "execute_result"
    }
   ],
   "source": [
    "c[:Nx,:Ny] = b\n",
    "c"
   ]
  },
  {
   "cell_type": "code",
   "execution_count": 148,
   "metadata": {},
   "outputs": [
    {
     "data": {
      "text/plain": [
       "array([[ 1.,  2.,  3.,  0.,  3.,  2.],\n",
       "       [ 4.,  5.,  6.,  0.,  6.,  5.],\n",
       "       [ 7.,  8.,  9.,  0.,  9.,  8.],\n",
       "       [10., 11., 12.,  0., 12., 11.],\n",
       "       [ 0.,  0.,  0.,  0.,  0.,  0.],\n",
       "       [ 0.,  0.,  0.,  0.,  0.,  0.],\n",
       "       [ 0.,  0.,  0.,  0.,  0.,  0.],\n",
       "       [ 0.,  0.,  0.,  0.,  0.,  0.]])"
      ]
     },
     "execution_count": 148,
     "metadata": {},
     "output_type": "execute_result"
    }
   ],
   "source": [
    "c[:Nx,Ny+1:] = b[:,1:Ny][:,::-1]\n",
    "c"
   ]
  },
  {
   "cell_type": "code",
   "execution_count": 149,
   "metadata": {},
   "outputs": [
    {
     "data": {
      "text/plain": [
       "array([[ 1.,  2.,  3.,  0.,  3.,  2.],\n",
       "       [ 4.,  5.,  6.,  0.,  6.,  5.],\n",
       "       [ 7.,  8.,  9.,  0.,  9.,  8.],\n",
       "       [10., 11., 12.,  0., 12., 11.],\n",
       "       [ 0.,  0.,  0.,  0.,  0.,  0.],\n",
       "       [10., 11., 12.,  0., 12., 11.],\n",
       "       [ 7.,  8.,  9.,  0.,  9.,  8.],\n",
       "       [ 4.,  5.,  6.,  0.,  6.,  5.]])"
      ]
     },
     "execution_count": 149,
     "metadata": {},
     "output_type": "execute_result"
    }
   ],
   "source": [
    "c[Nx+1:,:] = c[1:Nx,:][::-1]\n",
    "c"
   ]
  },
  {
   "cell_type": "code",
   "execution_count": null,
   "metadata": {},
   "outputs": [],
   "source": []
  },
  {
   "cell_type": "code",
   "execution_count": null,
   "metadata": {},
   "outputs": [],
   "source": []
  },
  {
   "cell_type": "code",
   "execution_count": 108,
   "metadata": {},
   "outputs": [
    {
     "data": {
      "text/plain": [
       "array([[5., 6., 0., 6.],\n",
       "       [3., 4., 0., 4.]])"
      ]
     },
     "execution_count": 108,
     "metadata": {},
     "output_type": "execute_result"
    }
   ],
   "source": [
    "c[1:Nx,:][::-1]"
   ]
  },
  {
   "cell_type": "code",
   "execution_count": 96,
   "metadata": {},
   "outputs": [
    {
     "data": {
      "text/plain": [
       "array([[2, 1],\n",
       "       [4, 3]])"
      ]
     },
     "execution_count": 96,
     "metadata": {},
     "output_type": "execute_result"
    }
   ],
   "source": [
    "z = np.array([[1, 2],[3, 4]])\n",
    "z[:,::-1]"
   ]
  },
  {
   "cell_type": "code",
   "execution_count": null,
   "metadata": {},
   "outputs": [],
   "source": []
  },
  {
   "cell_type": "code",
   "execution_count": null,
   "metadata": {},
   "outputs": [],
   "source": []
  }
 ],
 "metadata": {
  "anaconda-cloud": {},
  "kernelspec": {
   "display_name": "Python 3",
   "language": "python",
   "name": "python3"
  },
  "language_info": {
   "codemirror_mode": {
    "name": "ipython",
    "version": 3
   },
   "file_extension": ".py",
   "mimetype": "text/x-python",
   "name": "python",
   "nbconvert_exporter": "python",
   "pygments_lexer": "ipython3",
   "version": "3.8.8"
  }
 },
 "nbformat": 4,
 "nbformat_minor": 1
}
