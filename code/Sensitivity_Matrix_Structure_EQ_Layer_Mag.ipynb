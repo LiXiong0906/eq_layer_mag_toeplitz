{
 "cells": [
  {
   "cell_type": "markdown",
   "metadata": {},
   "source": [
    "## Notebook resume"
   ]
  },
  {
   "cell_type": "markdown",
   "metadata": {},
   "source": [
    "The sensitivity matrix of the equivalent layer linear system for magnetic data is given by:\n",
    "\n",
    "$A = cte \\, \\hat{F}^T \\, H \\, \\hat{h} $\n",
    "\n",
    "where: $\\hat{F}^T = [cos(I) cos(D) \\quad cos(I)sen(D) \\quad sen(I)] \\,$ is the cosine directions of the main magnetic field and\n",
    "\n",
    "$\\hat{h} =\\begin{bmatrix}\n",
    "\tcos(i) cos(d)\\\\\n",
    "\tcos(i)sen(d)\\\\ \n",
    "\tsen(i)\n",
    "\t\\end{bmatrix}\\,$ is the cosine directions of the equivalent sources magnetizations.\n",
    "\n",
    "$H = \\pmatrix{H^{xx} & H^{xy} & H^{xz} \\\\ H^{xy} & H^{yy} & H^{yz} \\\\ H^{xz} & H^{yz} & H^{zz}}$\n",
    "\n",
    "$H^{xx}$: Symmetric (symmetric BT - symmetric TB)\n",
    "\n",
    "$H^{xy}$: Symmetric (skew symmetric BT - skew symmetric TB)\n",
    "\n",
    "$H^{xz}$: Skew-symmetric (skew symmetric BT - symmetric TB)\n",
    "\n",
    "$H^{yy}$: Symmetric (symmetric BT - symmetric TB)\n",
    "\n",
    "$H^{yz}$: Skew-symmetric (symmetric BT - skew symmetric TB)\n",
    "\n",
    "$H^{zz}$: Symmetric (symmetric BT - symmetric TB)\n",
    "\n",
    "$A$: in general Nonsymmetric (nonsymmetric BT - nonsymmetric TB)\n",
    "\n",
    "Symmetric BTTB and skew symmetric BTTB matrices can be entirely described by theirs first row or first column.\n",
    "\n",
    "If we consider that $cte$, $F^T$ and $\\hat{h}$ are constants that are multiplying the second derivatives of the harmonic funtion $1/r$, the sensibility matrix $A$ is purely the sum of the components $H_{xx} + H_{xy} + H_{xz} + H_{xy} + H_{yy} + H_{yz} + H_{xz} + H_{yz} + H_{zz}$ multiplied by the respectives constants of each component.\n",
    "\n",
    "Thus, despite $A$ be neither symmetric BTTB matrix or skew-symmetric, it can be, in fact, written by calculating only the first row or column of these components.\n",
    "\n",
    "Under specific circumstances, when the magnetic main field and the souces magnetizations have particulars directions of Inclination and declination, the $A$ matrix can have different structures.\n",
    "\n",
    "Examples of structures that the matrix $A$ can take:\n",
    "\n",
    "If $I, i = 0°$ then, $A$ is Symmetric (nonsymmetric BT - nonsymmetric TB)\n",
    "\n",
    "If $I, i = 90°$ then, $A$ is Symmetric (symmetric BT - symmetric TB)\n",
    "\n",
    "If $I = 90°, i = 0°$ then, $A$ is Skew-symmetric (nonsymmetric BT - nonsymmetric TB)\n",
    "\n",
    "If $I = 90°, i = 0°, d = 0°$ then, $A$ is Skew-symmetric (skew-symmetric BT - symmetric TB)"
   ]
  },
  {
   "cell_type": "markdown",
   "metadata": {},
   "source": [
    "## Import"
   ]
  },
  {
   "cell_type": "code",
   "execution_count": 2,
   "metadata": {},
   "outputs": [],
   "source": [
    "import numpy as np\n",
    "import functions_fatiando as ft\n",
    "from timeit import default_timer as time\n",
    "from matplotlib import pyplot as plt\n",
    "%matplotlib inline"
   ]
  },
  {
   "cell_type": "markdown",
   "metadata": {},
   "source": [
    "## Y-oriented observation and equivalent layer grids"
   ]
  },
  {
   "cell_type": "code",
   "execution_count": 3,
   "metadata": {},
   "outputs": [],
   "source": [
    "# Create a regular grid at 0m height\n",
    "area = [1, 4, 1, 6]\n",
    "#area = [0, 800, 0, 800]\n",
    "#area = [-5000., 5000., -4000., 4000.]\n",
    "#shape = (50, 50)\n",
    "shape = (4, 3)\n",
    "xi, yi, zi = ft.gridder_regular(area, shape, z=0.)\n",
    "\n",
    "# Equivalent Layer\n",
    "areaj = [1, 4, 1, 6]\n",
    "#areaj = [0, 800, 0, 800]\n",
    "#areaj = [-5000., 5000., -4000., 4000.]\n",
    "#shapej = (50, 50)\n",
    "shapej = (4, 3)\n",
    "xj, yj, zj = ft.gridder_regular(areaj, shapej, z=10.)\n",
    "\n",
    "N = shape[0]*shape[1]\n",
    "M = shapej[0]*shapej[1]"
   ]
  },
  {
   "cell_type": "markdown",
   "metadata": {},
   "source": [
    "## Full magnetic equivalent layer sensitivity matrix construction"
   ]
  },
  {
   "cell_type": "code",
   "execution_count": 6,
   "metadata": {},
   "outputs": [
    {
     "name": "stdout",
     "output_type": "stream",
     "text": [
      "0.002148000000005368\n",
      "0.0010986328125\n"
     ]
    }
   ],
   "source": [
    "# Magnetic Configuration\n",
    "inc0 = np.deg2rad(90.)\n",
    "dec0 = np.deg2rad(20.)\n",
    "inc = np.deg2rad(90.)\n",
    "dec = np.deg2rad(10)\n",
    "F = np.array([np.cos(inc0)*np.cos(dec0), np.cos(inc0)*np.sin(dec0), np.sin(inc0)])\n",
    "h = np.array([np.cos(inc)*np.cos(dec), np.cos(inc)*np.sin(dec), np.sin(inc)])\n",
    "\n",
    "# Calculo da matriz de sensibilidade\n",
    "X = np.empty((N, M), dtype=np.float)\n",
    "Y = np.empty((N, M), dtype=np.float)\n",
    "Z = np.empty((N, M), dtype=np.float)\n",
    "A = np.empty((N, M), dtype=np.float)\n",
    "Axx = np.empty((N, M), dtype=np.float)\n",
    "Axy = np.empty((N, M), dtype=np.float)\n",
    "Axz = np.empty((N, M), dtype=np.float)\n",
    "Ayy = np.empty((N, M), dtype=np.float)\n",
    "Ayz = np.empty((N, M), dtype=np.float)\n",
    "Azz = np.empty((N, M), dtype=np.float)\n",
    "\n",
    "s = time()\n",
    "for i in range (N):\n",
    "    a = (xj-xi[i])\n",
    "    b = (yj-yi[i])\n",
    "    c = (zj-zi[i])\n",
    "    r = (a*a+b*b+c*c)\n",
    "    r3 = r**(-1.5)\n",
    "    r5 = r**(2.5)\n",
    "    Hxx = -r3+3*(a*a)/r5\n",
    "    Hxy = 3*(a*b)/r5\n",
    "    Hxz = 3*(a*c)/r5\n",
    "    Hyy = -r3+3*(b*b)/r5\n",
    "    Hyz = 3*(b*c)/r5\n",
    "    Hzz = -r3+3*(c*c)/r5\n",
    "    A[i] = ((F[0]*Hxx+F[1]*Hxy+F[2]*Hxz)*h[0] + (F[0]*Hxy+F[1]*Hyy+F[2]*Hyz)*h[1] + (F[0]*Hxz+F[1]*Hyz+F[2]*Hzz)*h[2])\n",
    "    Axx[i] = Hxx\n",
    "    Axy[i] = Hxy\n",
    "    Axz[i] = Hxz\n",
    "    Ayy[i] = Hyy\n",
    "    Ayz[i] = Hyz\n",
    "    Azz[i] = Hzz\n",
    "\n",
    "e = time()\n",
    "tcpu = e - s\n",
    "print (tcpu)\n",
    "print (A.nbytes/(1024.*1024.))"
   ]
  },
  {
   "cell_type": "markdown",
   "metadata": {},
   "source": [
    "### Plot A"
   ]
  },
  {
   "cell_type": "code",
   "execution_count": 8,
   "metadata": {},
   "outputs": [
    {
     "data": {
      "image/png": "[encoded data removed]",
      "text/plain": [
       "<Figure size 432x360 with 2 Axes>"
      ]
     },
     "metadata": {
      "needs_background": "light"
     },
     "output_type": "display_data"
    }
   ],
   "source": [
    "xt = np.arange(0,M+1,1)\n",
    "yt = np.arange(0,N+1,1)\n",
    "yt, xt = np.meshgrid(xt,yt)\n",
    "\n",
    "plt.figure(figsize=(6,5))\n",
    "plt.pcolormesh(yt, xt, A*(10**9), cmap='gist_rainbow_r')\n",
    "cb = plt.colorbar(shrink=0.65)\n",
    "plt.axis('scaled')\n",
    "cb.set_label('$A_m$', rotation=90, fontsize=14)\n",
    "plt.xlim(0,M)\n",
    "plt.ylim(N,0)\n",
    "plt.xticks(fontsize=12)\n",
    "plt.yticks(fontsize=12)\n",
    "plt.tight_layout()\n",
    "#plt.savefig('figures/sensibility_mag.jpg', dpi=300)"
   ]
  },
  {
   "cell_type": "code",
   "execution_count": 9,
   "metadata": {},
   "outputs": [
    {
     "data": {
      "text/plain": [
       "True"
      ]
     },
     "execution_count": 9,
     "metadata": {},
     "output_type": "execute_result"
    }
   ],
   "source": [
    "np.allclose(A, A.T, atol=1e-15)"
   ]
  },
  {
   "cell_type": "code",
   "execution_count": 10,
   "metadata": {},
   "outputs": [
    {
     "name": "stdout",
     "output_type": "stream",
     "text": [
      "True\n",
      "False\n",
      "True\n",
      "False\n",
      "True\n",
      "False\n"
     ]
    }
   ],
   "source": [
    "# verify if the whole matrix is symmetric\n",
    "print (np.allclose(A[0], A[:,0], atol=1e-15))\n",
    "\n",
    "# verify if the whole matrix is skew-symmetric\n",
    "print (np.allclose(A[0], -A[:,0], atol=1e-15))\n",
    "\n",
    "# verify if the blocks of the matrix are symmetric\n",
    "print (np.allclose(A[0,shape[1]:2*shape[1]], A[0:shape[1],shape[1]], atol=1e-15))\n",
    "\n",
    "# verify if the blocks of the matrix are skew-symmetric\n",
    "print (np.allclose(A[0,shape[1]:2*shape[1]], -A[0:shape[1],shape[1]], atol=1e-15))\n",
    "\n",
    "# verify if the whole matrix is symmetric by blocks\n",
    "print (np.allclose(A[shape[1]:2*shape[1],:shape[1]], A[:shape[1],shape[1]:2*shape[1]], atol=1e-15))\n",
    "\n",
    "# verify if the whole matrix is skew-symmetric by blocks\n",
    "print (np.allclose(A[shape[1]:2*shape[1],:shape[1]], -A[:shape[1],shape[1]:2*shape[1]], atol=1e-15))"
   ]
  },
  {
   "cell_type": "markdown",
   "metadata": {},
   "source": [
    "### Plot Hxx"
   ]
  },
  {
   "cell_type": "code",
   "execution_count": 12,
   "metadata": {},
   "outputs": [
    {
     "data": {
      "image/png": "[encoded data removed]",
      "text/plain": [
       "<Figure size 432x360 with 2 Axes>"
      ]
     },
     "metadata": {
      "needs_background": "light"
     },
     "output_type": "display_data"
    }
   ],
   "source": [
    "xt = np.arange(0,M+1,1)\n",
    "yt = np.arange(0,N+1,1)\n",
    "yt, xt = np.meshgrid(xt, yt)\n",
    "\n",
    "plt.figure(figsize=(6,5))\n",
    "plt.pcolormesh(yt, xt, Axx, cmap='jet')\n",
    "cb = plt.colorbar(shrink=0.65)\n",
    "plt.axis('scaled')\n",
    "cb.set_label('$A_m$', rotation=90, fontsize=14)\n",
    "plt.xlim(0,M)\n",
    "plt.ylim(N,0)\n",
    "plt.xticks(fontsize=12)\n",
    "plt.yticks(fontsize=12)\n",
    "plt.tight_layout()\n",
    "#plt.savefig('figures/sensibility_mag.jpg', dpi=300)"
   ]
  },
  {
   "cell_type": "code",
   "execution_count": 63,
   "metadata": {},
   "outputs": [
    {
     "name": "stdout",
     "output_type": "stream",
     "text": [
      "True\n",
      "False\n",
      "True\n",
      "False\n",
      "True\n",
      "False\n"
     ]
    }
   ],
   "source": [
    "# verify if the matrix is symmetric\n",
    "print (np.allclose(Axx[0], Axx[:,0], atol=1e-15))\n",
    "\n",
    "# verify if the matrix is skew-symmetric\n",
    "print (np.allclose(Axx[0], -Axx[:,0], atol=1e-15))\n",
    "\n",
    "# verify if the blocks matrix are symmetric\n",
    "print (np.allclose(Axx[0,shape[1]:2*shape[1]], Axx[0:shape[1],shape[1]], atol=1e-15))\n",
    "\n",
    "# verify if the blocks matrix are skew-symmetric\n",
    "print (np.allclose(Axx[0,shape[1]:2*shape[1]], -Axx[0:shape[1],shape[1]], atol=1e-15))\n",
    "\n",
    "# verify if the matrix is symmetric by blocks\n",
    "print (np.allclose(Axx[shape[1]:2*shape[1],:shape[1]], Axx[:shape[1],shape[1]:2*shape[1]], atol=1e-15))\n",
    "\n",
    "# verify if the matrix is skew-symmetric by blocks\n",
    "print (np.allclose(Axx[shape[1]:2*shape[1],:shape[1]], -Axx[:shape[1],shape[1]:2*shape[1]], atol=1e-15))"
   ]
  },
  {
   "cell_type": "markdown",
   "metadata": {},
   "source": [
    "### Plot Hxy"
   ]
  },
  {
   "cell_type": "code",
   "execution_count": 64,
   "metadata": {},
   "outputs": [
    {
     "data": {
      "image/png": "[encoded data removed]",
      "text/plain": [
       "<Figure size 432x360 with 2 Axes>"
      ]
     },
     "metadata": {},
     "output_type": "display_data"
    }
   ],
   "source": [
    "xt = np.arange(0,M+1,1)\n",
    "yt = np.arange(0,N+1,1)\n",
    "yt, xt = np.meshgrid(xt,yt)\n",
    "\n",
    "plt.figure(figsize=(6,5))\n",
    "plt.pcolormesh(yt, xt, Axy, cmap='jet')\n",
    "cb = plt.colorbar(shrink=0.65)\n",
    "plt.axis('scaled')\n",
    "cb.set_label('$A_m$', rotation=90, fontsize=14)\n",
    "plt.xlim(0,M)\n",
    "plt.ylim(N,0)\n",
    "plt.xticks(fontsize=12)\n",
    "plt.yticks(fontsize=12)\n",
    "plt.tight_layout()\n",
    "#plt.savefig('figures/sensibility_mag.jpg', dpi=300)"
   ]
  },
  {
   "cell_type": "code",
   "execution_count": 65,
   "metadata": {},
   "outputs": [
    {
     "name": "stdout",
     "output_type": "stream",
     "text": [
      "True\n",
      "False\n",
      "False\n",
      "True\n",
      "False\n",
      "True\n"
     ]
    }
   ],
   "source": [
    "# verify if the matrix is symmetric\n",
    "print (np.allclose(Axy[0], Axy[:,0], atol=1e-15))\n",
    "\n",
    "# verify if the matrix is skew-symmetric\n",
    "print (np.allclose(Axy[0], -Axy[:,0], atol=1e-15))\n",
    "\n",
    "# verify if the blocks matrix are symmetric\n",
    "print (np.allclose(Axy[0,shape[1]:2*shape[1]], Axy[0:shape[1],shape[1]], atol=1e-15))\n",
    "\n",
    "# verify if the blocks matrix are skew-symmetric\n",
    "print (np.allclose(Axy[0,shape[1]:2*shape[1]], -Axy[0:shape[1],shape[1]], atol=1e-15))\n",
    "\n",
    "# verify if the matrix is symmetric by blocks\n",
    "print (np.allclose(Axy[shape[1]:2*shape[1],:shape[1]], Axy[:shape[1],shape[1]:2*shape[1]], atol=1e-15))\n",
    "\n",
    "# verify if the matrix is skew-symmetric by blocks\n",
    "print (np.allclose(Axy[shape[1]:2*shape[1],:shape[1]], -Axy[:shape[1],shape[1]:2*shape[1]], atol=1e-15))"
   ]
  },
  {
   "cell_type": "markdown",
   "metadata": {},
   "source": [
    "### Plot Hxz"
   ]
  },
  {
   "cell_type": "code",
   "execution_count": 66,
   "metadata": {},
   "outputs": [
    {
     "data": {
      "image/png": "[encoded data removed]",
      "text/plain": [
       "<Figure size 432x360 with 2 Axes>"
      ]
     },
     "metadata": {},
     "output_type": "display_data"
    }
   ],
   "source": [
    "xt = np.arange(0,M+1,1)\n",
    "yt = np.arange(0,N+1,1)\n",
    "yt, xt = np.meshgrid(xt,yt)\n",
    "\n",
    "plt.figure(figsize=(6,5))\n",
    "plt.pcolormesh(yt, xt, Axz, cmap='jet')\n",
    "cb = plt.colorbar(shrink=0.65)\n",
    "plt.axis('scaled')\n",
    "cb.set_label('$A_m$', rotation=90, fontsize=14)\n",
    "plt.xlim(0,M)\n",
    "plt.ylim(N,0)\n",
    "plt.xticks(fontsize=12)\n",
    "plt.yticks(fontsize=12)\n",
    "plt.tight_layout()\n",
    "#plt.savefig('figures/sensibility_mag.jpg', dpi=300)"
   ]
  },
  {
   "cell_type": "code",
   "execution_count": 67,
   "metadata": {},
   "outputs": [
    {
     "name": "stdout",
     "output_type": "stream",
     "text": [
      "False\n",
      "True\n",
      "True\n",
      "False\n",
      "False\n",
      "True\n"
     ]
    }
   ],
   "source": [
    "# verify if the matrix is symmetric\n",
    "print (np.allclose(Axz[0], Axz[:,0], atol=1e-15))\n",
    "\n",
    "# verify if the matrix is skew-symmetric\n",
    "print (np.allclose(Axz[0], -Axz[:,0], atol=1e-15))\n",
    "\n",
    "# verify if the blocks matrix are symmetric\n",
    "print (np.allclose(Axz[0,shape[1]:2*shape[1]], Axz[0:shape[1],shape[1]], atol=1e-15))\n",
    "\n",
    "# verify if the blocks matrix are skew-symmetric\n",
    "print (np.allclose(Axz[0,shape[1]:2*shape[1]], -Axz[0:shape[1],shape[1]], atol=1e-15))\n",
    "\n",
    "# verify if the matrix is symmetric by blocks\n",
    "print (np.allclose(Axz[shape[1]:2*shape[1],:shape[1]], Axz[:shape[1],shape[1]:2*shape[1]], atol=1e-15))\n",
    "\n",
    "# verify if the matrix is skew-symmetric by blocks\n",
    "print (np.allclose(Axz[shape[1]:2*shape[1],:shape[1]], -Axz[:shape[1],shape[1]:2*shape[1]], atol=1e-15))"
   ]
  },
  {
   "cell_type": "markdown",
   "metadata": {},
   "source": [
    "### Plot Hyy"
   ]
  },
  {
   "cell_type": "code",
   "execution_count": 68,
   "metadata": {},
   "outputs": [
    {
     "data": {
      "image/png": "[encoded data removed]",
      "text/plain": [
       "<Figure size 432x360 with 2 Axes>"
      ]
     },
     "metadata": {},
     "output_type": "display_data"
    }
   ],
   "source": [
    "xt = np.arange(0,M+1,1)\n",
    "yt = np.arange(0,N+1,1)\n",
    "yt, xt = np.meshgrid(xt,yt)\n",
    "\n",
    "plt.figure(figsize=(6,5))\n",
    "plt.pcolormesh(yt, xt, Ayy, cmap='jet')\n",
    "cb = plt.colorbar(shrink=0.65)\n",
    "plt.axis('scaled')\n",
    "cb.set_label('$A_m$', rotation=90, fontsize=14)\n",
    "plt.xlim(0,M)\n",
    "plt.ylim(N,0)\n",
    "plt.xticks(fontsize=12)\n",
    "plt.yticks(fontsize=12)\n",
    "plt.tight_layout()\n",
    "#plt.savefig('figures/sensibility_mag.jpg', dpi=300)"
   ]
  },
  {
   "cell_type": "code",
   "execution_count": 69,
   "metadata": {},
   "outputs": [
    {
     "name": "stdout",
     "output_type": "stream",
     "text": [
      "True\n",
      "False\n",
      "True\n",
      "False\n",
      "True\n",
      "False\n"
     ]
    }
   ],
   "source": [
    "# verify if the matrix is symmetric\n",
    "print (np.allclose(Ayy[0], Ayy[:,0], atol=1e-15))\n",
    "\n",
    "# verify if the matrix is skew-symmetric\n",
    "print (np.allclose(Ayy[0], -Ayy[:,0], atol=1e-15))\n",
    "\n",
    "# verify if the blocks matrix are symmetric\n",
    "print (np.allclose(Ayy[0,shape[1]:2*shape[1]], Ayy[0:shape[1],shape[1]], atol=1e-15))\n",
    "\n",
    "# verify if the blocks matrix are skew-symmetric\n",
    "print (np.allclose(Ayy[0,shape[1]:2*shape[1]], -Ayy[0:shape[1],shape[1]], atol=1e-15))\n",
    "\n",
    "# verify if the matrix is symmetric by blocks\n",
    "print (np.allclose(Ayy[shape[1]:2*shape[1],:shape[1]], Ayy[:shape[1],shape[1]:2*shape[1]], atol=1e-15))\n",
    "\n",
    "# verify if the matrix is skew-symmetric by blocks\n",
    "print (np.allclose(Ayy[shape[1]:2*shape[1],:shape[1]], -Ayy[:shape[1],shape[1]:2*shape[1]], atol=1e-15))"
   ]
  },
  {
   "cell_type": "markdown",
   "metadata": {},
   "source": [
    "### Plot Hyz"
   ]
  },
  {
   "cell_type": "code",
   "execution_count": 70,
   "metadata": {},
   "outputs": [
    {
     "data": {
      "image/png": "[encoded data removed]",
      "text/plain": [
       "<Figure size 432x360 with 2 Axes>"
      ]
     },
     "metadata": {},
     "output_type": "display_data"
    }
   ],
   "source": [
    "xt = np.arange(0,M+1,1)\n",
    "yt = np.arange(0,N+1,1)\n",
    "yt, xt = np.meshgrid(xt,yt)\n",
    "\n",
    "plt.figure(figsize=(6,5))\n",
    "plt.pcolormesh(yt, xt, Ayz, cmap='jet')\n",
    "cb = plt.colorbar(shrink=0.65)\n",
    "plt.axis('scaled')\n",
    "cb.set_label('$A_m$', rotation=90, fontsize=14)\n",
    "plt.xlim(0,M)\n",
    "plt.ylim(N,0)\n",
    "plt.xticks(fontsize=12)\n",
    "plt.yticks(fontsize=12)\n",
    "plt.tight_layout()\n",
    "#plt.savefig('figures/sensibility_mag.jpg', dpi=300)"
   ]
  },
  {
   "cell_type": "code",
   "execution_count": 71,
   "metadata": {},
   "outputs": [
    {
     "name": "stdout",
     "output_type": "stream",
     "text": [
      "False\n",
      "True\n",
      "False\n",
      "True\n",
      "True\n",
      "False\n"
     ]
    }
   ],
   "source": [
    "# verify if the matrix is symmetric\n",
    "print (np.allclose(Ayz[0], Ayz[:,0], atol=1e-15))\n",
    "\n",
    "# verify if the matrix is skew-symmetric\n",
    "print (np.allclose(Ayz[0], -Ayz[:,0], atol=1e-15))\n",
    "\n",
    "# verify if the blocks matrix are symmetric\n",
    "print (np.allclose(Ayz[0,shape[1]:2*shape[1]], Ayz[0:shape[1],shape[1]], atol=1e-15))\n",
    "\n",
    "# verify if the blocks matrix are skew-symmetric\n",
    "print (np.allclose(Ayz[0,shape[1]:2*shape[1]], -Ayz[0:shape[1],shape[1]], atol=1e-15))\n",
    "\n",
    "# verify if the matrix is symmetric by blocks\n",
    "print (np.allclose(Ayz[shape[1]:2*shape[1],:shape[1]], Ayz[:shape[1],shape[1]:2*shape[1]], atol=1e-15))\n",
    "\n",
    "# verify if the matrix is skew-symmetric by blocks\n",
    "print (np.allclose(Ayz[shape[1]:2*shape[1],:shape[1]], -Ayz[:shape[1],shape[1]:2*shape[1]], atol=1e-15))"
   ]
  },
  {
   "cell_type": "markdown",
   "metadata": {},
   "source": [
    "### Plot Hzz"
   ]
  },
  {
   "cell_type": "code",
   "execution_count": 72,
   "metadata": {},
   "outputs": [
    {
     "data": {
      "image/png": "[encoded data removed]",
      "text/plain": [
       "<Figure size 432x360 with 2 Axes>"
      ]
     },
     "metadata": {},
     "output_type": "display_data"
    }
   ],
   "source": [
    "xt = np.arange(0,M+1,1)\n",
    "yt = np.arange(0,N+1,1)\n",
    "yt, xt = np.meshgrid(xt,yt)\n",
    "\n",
    "plt.figure(figsize=(6,5))\n",
    "plt.pcolormesh(yt, xt, Azz, cmap='jet')\n",
    "cb = plt.colorbar(shrink=0.65)\n",
    "plt.axis('scaled')\n",
    "cb.set_label('$A_m$', rotation=90, fontsize=14)\n",
    "plt.xlim(0,M)\n",
    "plt.ylim(N,0)\n",
    "plt.xticks(fontsize=12)\n",
    "plt.yticks(fontsize=12)\n",
    "plt.tight_layout()\n",
    "#plt.savefig('figures/sensibility_mag.jpg', dpi=300)"
   ]
  },
  {
   "cell_type": "code",
   "execution_count": 73,
   "metadata": {},
   "outputs": [
    {
     "name": "stdout",
     "output_type": "stream",
     "text": [
      "True\n",
      "False\n",
      "True\n",
      "False\n",
      "True\n",
      "False\n"
     ]
    }
   ],
   "source": [
    "# verify if the matrix is symmetric\n",
    "print (np.allclose(Azz[0], Azz[:,0], atol=1e-15))\n",
    "\n",
    "# verify if the matrix is skew-symmetric\n",
    "print (np.allclose(Azz[0], -Azz[:,0], atol=1e-15))\n",
    "\n",
    "# verify if the blocks matrix are symmetric\n",
    "print (np.allclose(Azz[0,shape[1]:2*shape[1]], Azz[0:shape[1],shape[1]], atol=1e-15))\n",
    "\n",
    "# verify if the blocks matrix are skew-symmetric\n",
    "print (np.allclose(Azz[0,shape[1]:2*shape[1]], -Azz[0:shape[1],shape[1]], atol=1e-15))\n",
    "\n",
    "# verify if the matrix is symmetric by blocks\n",
    "print (np.allclose(Azz[shape[1]:2*shape[1],:shape[1]], Azz[:shape[1],shape[1]:2*shape[1]], atol=1e-15))\n",
    "\n",
    "# verify if the matrix is skew-symmetric by blocks\n",
    "print (np.allclose(Azz[shape[1]:2*shape[1],:shape[1]], -Azz[:shape[1],shape[1]:2*shape[1]], atol=1e-15))"
   ]
  },
  {
   "cell_type": "code",
   "execution_count": null,
   "metadata": {},
   "outputs": [],
   "source": []
  },
  {
   "cell_type": "code",
   "execution_count": null,
   "metadata": {},
   "outputs": [],
   "source": []
  }
 ],
 "metadata": {
  "anaconda-cloud": {},
  "kernelspec": {
   "display_name": "Python 3",
   "language": "python",
   "name": "python3"
  },
  "language_info": {
   "codemirror_mode": {
    "name": "ipython",
    "version": 3
   },
   "file_extension": ".py",
   "mimetype": "text/x-python",
   "name": "python",
   "nbconvert_exporter": "python",
   "pygments_lexer": "ipython3",
   "version": "3.8.5"
  }
 },
 "nbformat": 4,
 "nbformat_minor": 1
}
